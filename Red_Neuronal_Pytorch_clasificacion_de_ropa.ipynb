{
  "nbformat": 4,
  "nbformat_minor": 0,
  "metadata": {
    "colab": {
      "provenance": []
    },
    "kernelspec": {
      "name": "python3",
      "display_name": "Python 3"
    },
    "language_info": {
      "name": "python"
    }
  },
  "cells": [
    {
      "cell_type": "markdown",
      "source": [
        "\n",
        "PyTorch es un marco de aprendizaje profundo que proporciona una interfaz flexible para el desarrollo de modelos de inteligencia artificial. PyTorch puede ejecutarse tanto en CPU (Unidad Central de Procesamiento) como en GPU (Unidad de Procesamiento Gráfico), lo que brinda a los desarrolladores la flexibilidad de elegir la plataforma de hardware que mejor se adapte a sus necesidades de computación"
      ],
      "metadata": {
        "id": "KsvNStc45R5M"
      }
    },
    {
      "cell_type": "markdown",
      "source": [
        "Los tensores son muy parecidos a los arrays de NumPy; sin embargo, es crucial destacar que los tensores tienen la capacidad de ejecutarse en una GPU. Recordemos que una GPU se diferencia de una CPU en que la GPU, o Unidad de Procesamiento Gráfico, está especialmente diseñada para realizar operaciones en paralelo de manera eficiente. A diferencia de una CPU, que se centra en tareas más generales y secuenciales, la GPU puede procesar grandes cantidades de datos simultáneamente, lo que resulta en un rendimiento significativamente mejorado para operaciones matriciales y de tensores. Por lo tanto, al utilizar tensores en una GPU, podemos acelerar de manera considerable el procesamiento de información, siendo especialmente beneficioso en aplicaciones de aprendizaje profundo y otras tareas computacionales intensivas."
      ],
      "metadata": {
        "id": "R1ofh20m6GSc"
      }
    },
    {
      "cell_type": "code",
      "source": [
        "from google.colab import drive\n",
        "drive.mount('/content/drive')"
      ],
      "metadata": {
        "colab": {
          "base_uri": "https://localhost:8080/"
        },
        "id": "p1eMa6LI3h4k",
        "outputId": "dfa53e80-54ec-4daa-8de1-9e12e556eb5c"
      },
      "execution_count": 73,
      "outputs": [
        {
          "output_type": "stream",
          "name": "stdout",
          "text": [
            "Mounted at /content/drive\n"
          ]
        }
      ]
    },
    {
      "cell_type": "code",
      "source": [
        "!git clone https://github.com/katbl23/Red_Neuronal_Pytorch_clasificacion_de_ropa\n"
      ],
      "metadata": {
        "colab": {
          "base_uri": "https://localhost:8080/"
        },
        "id": "CjtSRk9b4G_-",
        "outputId": "2a520f16-5025-45cf-fecb-2aa72917d86e"
      },
      "execution_count": 75,
      "outputs": [
        {
          "output_type": "stream",
          "name": "stdout",
          "text": [
            "Cloning into 'Red_Neuronal_Pytorch_clasificacion_de_ropa'...\n",
            "warning: You appear to have cloned an empty repository.\n"
          ]
        }
      ]
    },
    {
      "cell_type": "code",
      "execution_count": 2,
      "metadata": {
        "id": "ZYI_LDWT36dh"
      },
      "outputs": [],
      "source": [
        "#Importando librerias\n",
        "import torch\n",
        "import numpy as np"
      ]
    },
    {
      "cell_type": "code",
      "source": [
        "import torch\n",
        "from torch.utils.data import Dataset\n",
        "from torchvision import datasets\n",
        "from torchvision.transforms import ToTensor, Lambda\n",
        "import matplotlib.pyplot as plt\n",
        "from torch.utils.data import DataLoader"
      ],
      "metadata": {
        "id": "8ikv1R0Jbl3O"
      },
      "execution_count": 3,
      "outputs": []
    },
    {
      "cell_type": "code",
      "source": [
        "import os\n",
        "from torch import nn\n",
        "from torchvision import datasets, transforms"
      ],
      "metadata": {
        "id": "RPM6ocPu2n8v"
      },
      "execution_count": 4,
      "outputs": []
    },
    {
      "cell_type": "markdown",
      "source": [
        "#Inicializar Tensores"
      ],
      "metadata": {
        "id": "TAgStcQ3IAyK"
      }
    },
    {
      "cell_type": "markdown",
      "source": [
        "\n",
        "En PyTorch, se pueden inicializar tensores de diversas maneras."
      ],
      "metadata": {
        "id": "GTO_rOH4I6i8"
      }
    },
    {
      "cell_type": "markdown",
      "source": [
        "##Inicialización a partir de datos existentes:"
      ],
      "metadata": {
        "id": "qr7Di3S6JG-D"
      }
    },
    {
      "cell_type": "code",
      "source": [
        "data=[[1,2,3],[4,5,6]]"
      ],
      "metadata": {
        "id": "fsGgeuU15Snz"
      },
      "execution_count": 5,
      "outputs": []
    },
    {
      "cell_type": "code",
      "source": [
        "type(data)"
      ],
      "metadata": {
        "colab": {
          "base_uri": "https://localhost:8080/"
        },
        "id": "tgCkrgO1JklG",
        "outputId": "256aac47-bd24-45aa-a4bf-3d6bed4fc2b5"
      },
      "execution_count": 6,
      "outputs": [
        {
          "output_type": "execute_result",
          "data": {
            "text/plain": [
              "list"
            ]
          },
          "metadata": {},
          "execution_count": 6
        }
      ]
    },
    {
      "cell_type": "code",
      "source": [
        "data[1]"
      ],
      "metadata": {
        "colab": {
          "base_uri": "https://localhost:8080/"
        },
        "id": "SWnMuEG2Jnuk",
        "outputId": "0356ef7f-5685-4ac0-c15f-0e7485b619d6"
      },
      "execution_count": 7,
      "outputs": [
        {
          "output_type": "execute_result",
          "data": {
            "text/plain": [
              "[4, 5, 6]"
            ]
          },
          "metadata": {},
          "execution_count": 7
        }
      ]
    },
    {
      "cell_type": "code",
      "source": [
        "x_data=torch.tensor(data)\n",
        "x_data"
      ],
      "metadata": {
        "colab": {
          "base_uri": "https://localhost:8080/"
        },
        "id": "OWx0zaLMJsys",
        "outputId": "6587b603-9bce-4608-f06f-e6fa86467e1f"
      },
      "execution_count": 8,
      "outputs": [
        {
          "output_type": "execute_result",
          "data": {
            "text/plain": [
              "tensor([[1, 2, 3],\n",
              "        [4, 5, 6]])"
            ]
          },
          "metadata": {},
          "execution_count": 8
        }
      ]
    },
    {
      "cell_type": "code",
      "source": [
        "type(x_data)"
      ],
      "metadata": {
        "colab": {
          "base_uri": "https://localhost:8080/"
        },
        "id": "GxHnphgxJ5Zi",
        "outputId": "0782a330-1915-47f7-9f62-ae29f285e01a"
      },
      "execution_count": 9,
      "outputs": [
        {
          "output_type": "execute_result",
          "data": {
            "text/plain": [
              "torch.Tensor"
            ]
          },
          "metadata": {},
          "execution_count": 9
        }
      ]
    },
    {
      "cell_type": "code",
      "source": [
        "len(x_data)"
      ],
      "metadata": {
        "colab": {
          "base_uri": "https://localhost:8080/"
        },
        "id": "pkbfIY-ffy6E",
        "outputId": "fcfc807a-126a-4cbc-cfac-1b0c91fe5977"
      },
      "execution_count": 10,
      "outputs": [
        {
          "output_type": "execute_result",
          "data": {
            "text/plain": [
              "2"
            ]
          },
          "metadata": {},
          "execution_count": 10
        }
      ]
    },
    {
      "cell_type": "markdown",
      "source": [
        "##Inicializacion a partir de numpy"
      ],
      "metadata": {
        "id": "x9lFX2pBKFLq"
      }
    },
    {
      "cell_type": "code",
      "source": [
        "np_array=np.array(data)"
      ],
      "metadata": {
        "id": "QuG-DmjfJ7o_"
      },
      "execution_count": 11,
      "outputs": []
    },
    {
      "cell_type": "code",
      "source": [
        "np_array"
      ],
      "metadata": {
        "colab": {
          "base_uri": "https://localhost:8080/"
        },
        "id": "d_ZjXqT6Kcgh",
        "outputId": "e41ed90a-5136-416b-891c-0129d4c2b299"
      },
      "execution_count": 12,
      "outputs": [
        {
          "output_type": "execute_result",
          "data": {
            "text/plain": [
              "array([[1, 2, 3],\n",
              "       [4, 5, 6]])"
            ]
          },
          "metadata": {},
          "execution_count": 12
        }
      ]
    },
    {
      "cell_type": "code",
      "source": [
        "x_np_array=torch.tensor(np_array)"
      ],
      "metadata": {
        "id": "fdv7wC0xKQGg"
      },
      "execution_count": 13,
      "outputs": []
    },
    {
      "cell_type": "code",
      "source": [
        "x_np_array"
      ],
      "metadata": {
        "colab": {
          "base_uri": "https://localhost:8080/"
        },
        "id": "ZIs3jvHIKYif",
        "outputId": "ffdacfbf-9707-4320-c1a6-73c471aecaa3"
      },
      "execution_count": 14,
      "outputs": [
        {
          "output_type": "execute_result",
          "data": {
            "text/plain": [
              "tensor([[1, 2, 3],\n",
              "        [4, 5, 6]])"
            ]
          },
          "metadata": {},
          "execution_count": 14
        }
      ]
    },
    {
      "cell_type": "markdown",
      "source": [
        "##Inicialización con un rango específico"
      ],
      "metadata": {
        "id": "PjANMsopLB2s"
      }
    },
    {
      "cell_type": "code",
      "source": [
        "tensor_range=torch.arange(0,10,2)"
      ],
      "metadata": {
        "id": "Qc2IVVPFKbFp"
      },
      "execution_count": 15,
      "outputs": []
    },
    {
      "cell_type": "code",
      "source": [
        "tensor_range"
      ],
      "metadata": {
        "colab": {
          "base_uri": "https://localhost:8080/"
        },
        "id": "Bj3YuNz_LIPl",
        "outputId": "1cea78c4-59cf-4b45-8650-8b667f46bc89"
      },
      "execution_count": 16,
      "outputs": [
        {
          "output_type": "execute_result",
          "data": {
            "text/plain": [
              "tensor([0, 2, 4, 6, 8])"
            ]
          },
          "metadata": {},
          "execution_count": 16
        }
      ]
    },
    {
      "cell_type": "markdown",
      "source": [
        "#Atributo de un tensor\n"
      ],
      "metadata": {
        "id": "fz3gKtL1LTnW"
      }
    },
    {
      "cell_type": "markdown",
      "source": [
        "los tensores son objetos versátiles con varios atributos que pueden proporcionar información sobre su forma, tipo de datos, dispositivo de almacenamiento, entre otros."
      ],
      "metadata": {
        "id": "WD6Yb9pgLX-h"
      }
    },
    {
      "cell_type": "code",
      "source": [
        "tensor=torch.rand(3,4)"
      ],
      "metadata": {
        "id": "9JQyIBy9LJsE"
      },
      "execution_count": 17,
      "outputs": []
    },
    {
      "cell_type": "code",
      "source": [
        "tensor"
      ],
      "metadata": {
        "colab": {
          "base_uri": "https://localhost:8080/"
        },
        "id": "pzcrCoWuLeU8",
        "outputId": "ddaf0973-a63c-4f88-89ac-de4b0aeb0a1d"
      },
      "execution_count": 18,
      "outputs": [
        {
          "output_type": "execute_result",
          "data": {
            "text/plain": [
              "tensor([[0.1991, 0.9111, 0.4136, 0.6136],\n",
              "        [0.2318, 0.5777, 0.7370, 0.2083],\n",
              "        [0.7873, 0.3222, 0.2565, 0.1130]])"
            ]
          },
          "metadata": {},
          "execution_count": 18
        }
      ]
    },
    {
      "cell_type": "code",
      "source": [
        "tensor.shape"
      ],
      "metadata": {
        "colab": {
          "base_uri": "https://localhost:8080/"
        },
        "id": "sELavSLaLfII",
        "outputId": "c9c5a59c-5192-41e4-c9a7-2b2da5e8c2f0"
      },
      "execution_count": 19,
      "outputs": [
        {
          "output_type": "execute_result",
          "data": {
            "text/plain": [
              "torch.Size([3, 4])"
            ]
          },
          "metadata": {},
          "execution_count": 19
        }
      ]
    },
    {
      "cell_type": "markdown",
      "source": [
        "Este atributo devuelve un objeto que describe la forma (dimensiones) del tensor"
      ],
      "metadata": {
        "id": "tukm4SRnLpoe"
      }
    },
    {
      "cell_type": "code",
      "source": [
        "tensor.dtype"
      ],
      "metadata": {
        "colab": {
          "base_uri": "https://localhost:8080/"
        },
        "id": "qQQbNW_ULkFd",
        "outputId": "66f32bd8-813a-4c9f-fd48-f9c3714b60fa"
      },
      "execution_count": 20,
      "outputs": [
        {
          "output_type": "execute_result",
          "data": {
            "text/plain": [
              "torch.float32"
            ]
          },
          "metadata": {},
          "execution_count": 20
        }
      ]
    },
    {
      "cell_type": "markdown",
      "source": [
        "Este atributo indica el tipo de datos de los elementos dentro del tensor"
      ],
      "metadata": {
        "id": "kUEq75X-Lx0t"
      }
    },
    {
      "cell_type": "code",
      "source": [
        "tensor.device"
      ],
      "metadata": {
        "colab": {
          "base_uri": "https://localhost:8080/"
        },
        "id": "QSK-sSR7Ltj0",
        "outputId": "ce726581-08fe-43ac-9b3c-aead5134fc61"
      },
      "execution_count": 21,
      "outputs": [
        {
          "output_type": "execute_result",
          "data": {
            "text/plain": [
              "device(type='cpu')"
            ]
          },
          "metadata": {},
          "execution_count": 21
        }
      ]
    },
    {
      "cell_type": "markdown",
      "source": [
        "Este atributo muestra el dispositivo en el que se almacena el tensor, ya sea en la CPU o en una GPU"
      ],
      "metadata": {
        "id": "z0Dc9_GmL4X5"
      }
    },
    {
      "cell_type": "markdown",
      "source": [
        "\n",
        "Las CPUs pueden tener hasta 16 núcleos, que son unidades encargadas de llevar a cabo las operaciones de computación real. Cada núcleo procesa tareas de manera secuencial, es decir, una tarea a la vez.\n",
        "\n",
        "Por otro lado, las GPUs cuentan con miles de núcleos. Estos núcleos de la GPU realizan cálculos mediante el procesamiento en paralelo, dividiendo las tareas y procesándolas a través de los distintos núcleos. Esta capacidad es lo que hace que las GPUs sean generalmente más rápidas que las CPUs. Las GPUs muestran un rendimiento óptimo al trabajar con conjuntos de datos extensos en comparación con conjuntos de datos más pequeños"
      ],
      "metadata": {
        "id": "kPZ5rumKTpXk"
      }
    },
    {
      "cell_type": "markdown",
      "source": [
        "#Operaciones de tensores"
      ],
      "metadata": {
        "id": "Zwlqly1pTtJh"
      }
    },
    {
      "cell_type": "code",
      "source": [
        "tensor=torch.randint(0,20,(3,3))\n",
        "tensor"
      ],
      "metadata": {
        "colab": {
          "base_uri": "https://localhost:8080/"
        },
        "id": "Bn1BYxZjL4zb",
        "outputId": "f63aa5dd-edb5-4c3a-f2ab-e8de89225d54"
      },
      "execution_count": 22,
      "outputs": [
        {
          "output_type": "execute_result",
          "data": {
            "text/plain": [
              "tensor([[13, 10, 14],\n",
              "        [11,  0,  8],\n",
              "        [17, 14,  6]])"
            ]
          },
          "metadata": {},
          "execution_count": 22
        }
      ]
    },
    {
      "cell_type": "code",
      "source": [
        "len(tensor)"
      ],
      "metadata": {
        "colab": {
          "base_uri": "https://localhost:8080/"
        },
        "id": "rrcfJ0xeftLj",
        "outputId": "3923603f-65fe-48cd-c174-4fee4b007958"
      },
      "execution_count": 23,
      "outputs": [
        {
          "output_type": "execute_result",
          "data": {
            "text/plain": [
              "3"
            ]
          },
          "metadata": {},
          "execution_count": 23
        }
      ]
    },
    {
      "cell_type": "code",
      "source": [
        "tensor[0]"
      ],
      "metadata": {
        "colab": {
          "base_uri": "https://localhost:8080/"
        },
        "id": "sKgmTa2VT31r",
        "outputId": "492d8750-31b7-45e5-d5c7-4d81c98d7061"
      },
      "execution_count": 24,
      "outputs": [
        {
          "output_type": "execute_result",
          "data": {
            "text/plain": [
              "tensor([13, 10, 14])"
            ]
          },
          "metadata": {},
          "execution_count": 24
        }
      ]
    },
    {
      "cell_type": "code",
      "source": [
        "tensor[0:1,0:3]"
      ],
      "metadata": {
        "colab": {
          "base_uri": "https://localhost:8080/"
        },
        "id": "N8J3zuWZVO2-",
        "outputId": "0c396fdb-8c1c-4389-fecf-01bad8a1de04"
      },
      "execution_count": 25,
      "outputs": [
        {
          "output_type": "execute_result",
          "data": {
            "text/plain": [
              "tensor([[13, 10, 14]])"
            ]
          },
          "metadata": {},
          "execution_count": 25
        }
      ]
    },
    {
      "cell_type": "markdown",
      "source": [
        "##Joining tensor"
      ],
      "metadata": {
        "id": "e7x271SbVg7M"
      }
    },
    {
      "cell_type": "markdown",
      "source": [
        "torch.cat es una función en PyTorch que se utiliza para concatenar tensores a lo largo de un eje específico. El nombre \"cat\" proviene de \"concatenate\" (concatenar en inglés). Esta función es útil cuando necesitas combinar tensores a lo largo de una dimensión existente."
      ],
      "metadata": {
        "id": "ymWgGeIIV5nY"
      }
    },
    {
      "cell_type": "code",
      "source": [
        "t1=torch.cat([tensor,tensor],dim=1)"
      ],
      "metadata": {
        "id": "aaovS3KtVSn6"
      },
      "execution_count": 26,
      "outputs": []
    },
    {
      "cell_type": "code",
      "source": [
        "t1"
      ],
      "metadata": {
        "colab": {
          "base_uri": "https://localhost:8080/"
        },
        "id": "GepfyiS8V_RJ",
        "outputId": "f5992995-f5a7-4f83-fa4c-e5301d5e56e2"
      },
      "execution_count": 27,
      "outputs": [
        {
          "output_type": "execute_result",
          "data": {
            "text/plain": [
              "tensor([[13, 10, 14, 13, 10, 14],\n",
              "        [11,  0,  8, 11,  0,  8],\n",
              "        [17, 14,  6, 17, 14,  6]])"
            ]
          },
          "metadata": {},
          "execution_count": 27
        }
      ]
    },
    {
      "cell_type": "code",
      "source": [
        "len(t1)"
      ],
      "metadata": {
        "colab": {
          "base_uri": "https://localhost:8080/"
        },
        "id": "5Pmi2zRxfnu2",
        "outputId": "fe238948-a3c2-46af-b755-7789fbe3e8b7"
      },
      "execution_count": 28,
      "outputs": [
        {
          "output_type": "execute_result",
          "data": {
            "text/plain": [
              "3"
            ]
          },
          "metadata": {},
          "execution_count": 28
        }
      ]
    },
    {
      "cell_type": "code",
      "source": [
        "t2=torch.cat([tensor,tensor],dim=0)"
      ],
      "metadata": {
        "id": "0U-gouFfWFaD"
      },
      "execution_count": 29,
      "outputs": []
    },
    {
      "cell_type": "code",
      "source": [
        "t2"
      ],
      "metadata": {
        "colab": {
          "base_uri": "https://localhost:8080/"
        },
        "id": "bwFtfciEWKR8",
        "outputId": "5cc17938-40b9-46e5-d9ba-fa2ad0b1db53"
      },
      "execution_count": 30,
      "outputs": [
        {
          "output_type": "execute_result",
          "data": {
            "text/plain": [
              "tensor([[13, 10, 14],\n",
              "        [11,  0,  8],\n",
              "        [17, 14,  6],\n",
              "        [13, 10, 14],\n",
              "        [11,  0,  8],\n",
              "        [17, 14,  6]])"
            ]
          },
          "metadata": {},
          "execution_count": 30
        }
      ]
    },
    {
      "cell_type": "code",
      "source": [
        "agg=t2.sum()\n",
        "agg"
      ],
      "metadata": {
        "colab": {
          "base_uri": "https://localhost:8080/"
        },
        "id": "Psw4dL9ZWPEb",
        "outputId": "9e1e6ac8-6ea6-4c4f-9994-4763f58442dc"
      },
      "execution_count": 31,
      "outputs": [
        {
          "output_type": "execute_result",
          "data": {
            "text/plain": [
              "tensor(186)"
            ]
          },
          "metadata": {},
          "execution_count": 31
        }
      ]
    },
    {
      "cell_type": "code",
      "source": [
        "agg_item=agg.item()\n",
        "agg_item"
      ],
      "metadata": {
        "colab": {
          "base_uri": "https://localhost:8080/"
        },
        "id": "xXSWs4_MWpIb",
        "outputId": "83451622-1a36-4ac5-aa88-4b3093295079"
      },
      "execution_count": 32,
      "outputs": [
        {
          "output_type": "execute_result",
          "data": {
            "text/plain": [
              "186"
            ]
          },
          "metadata": {},
          "execution_count": 32
        }
      ]
    },
    {
      "cell_type": "markdown",
      "source": [
        "#Loading Dataset"
      ],
      "metadata": {
        "id": "F---91q1bvtW"
      }
    },
    {
      "cell_type": "markdown",
      "source": [
        "Fashion-MNIST es una colección de imágenes de artículos de Zalando que consta de 60,000 ejemplos de entrenamiento y 10,000 ejemplos de prueba. Cada ejemplo incluye una imagen en escala de grises de 28×28 píxeles y una etiqueta correspondiente a una de las 10 clases.\n",
        "\n",
        "Cada imagen tiene una altura y ancho de 28 píxeles, lo que da un total de 784 píxeles.\n",
        "Las 10 clases indican el tipo de imagen, como por ejemplo: camiseta/top, pantalón, pulóver, vestido, bolso, bota, etc.\n",
        "Los píxeles en escala de grises tienen valores que oscilan entre 0 y 255, representando la intensidad de las imágenes en blanco y negro. El valor de intensidad aumenta de blanco a negro. Por ejemplo, el color blanco se representa con un valor de 0, mientras que el color negro se representa con un valor de 255."
      ],
      "metadata": {
        "id": "r5zxyDaIczD5"
      }
    },
    {
      "cell_type": "code",
      "source": [
        "training_data = datasets.FashionMNIST(\n",
        "    root=\"data\",\n",
        "    train=True,\n",
        "    download=True,\n",
        "    transform=ToTensor()\n",
        ")\n",
        "\n",
        "test_data = datasets.FashionMNIST(\n",
        "    root=\"data\",\n",
        "    train=False,\n",
        "    download=True,\n",
        "    transform=ToTensor()\n",
        ")"
      ],
      "metadata": {
        "colab": {
          "base_uri": "https://localhost:8080/"
        },
        "id": "_V__9f2iW4ir",
        "outputId": "bdbfec0f-737f-4ec7-b0d4-9936e1266d31"
      },
      "execution_count": 33,
      "outputs": [
        {
          "output_type": "stream",
          "name": "stdout",
          "text": [
            "Downloading http://fashion-mnist.s3-website.eu-central-1.amazonaws.com/train-images-idx3-ubyte.gz\n",
            "Downloading http://fashion-mnist.s3-website.eu-central-1.amazonaws.com/train-images-idx3-ubyte.gz to data/FashionMNIST/raw/train-images-idx3-ubyte.gz\n"
          ]
        },
        {
          "output_type": "stream",
          "name": "stderr",
          "text": [
            "100%|██████████| 26421880/26421880 [00:03<00:00, 7956140.91it/s] \n"
          ]
        },
        {
          "output_type": "stream",
          "name": "stdout",
          "text": [
            "Extracting data/FashionMNIST/raw/train-images-idx3-ubyte.gz to data/FashionMNIST/raw\n",
            "\n",
            "Downloading http://fashion-mnist.s3-website.eu-central-1.amazonaws.com/train-labels-idx1-ubyte.gz\n",
            "Downloading http://fashion-mnist.s3-website.eu-central-1.amazonaws.com/train-labels-idx1-ubyte.gz to data/FashionMNIST/raw/train-labels-idx1-ubyte.gz\n"
          ]
        },
        {
          "output_type": "stream",
          "name": "stderr",
          "text": [
            "100%|██████████| 29515/29515 [00:00<00:00, 139305.90it/s]\n"
          ]
        },
        {
          "output_type": "stream",
          "name": "stdout",
          "text": [
            "Extracting data/FashionMNIST/raw/train-labels-idx1-ubyte.gz to data/FashionMNIST/raw\n",
            "\n",
            "Downloading http://fashion-mnist.s3-website.eu-central-1.amazonaws.com/t10k-images-idx3-ubyte.gz\n",
            "Downloading http://fashion-mnist.s3-website.eu-central-1.amazonaws.com/t10k-images-idx3-ubyte.gz to data/FashionMNIST/raw/t10k-images-idx3-ubyte.gz\n"
          ]
        },
        {
          "output_type": "stream",
          "name": "stderr",
          "text": [
            "100%|██████████| 4422102/4422102 [00:01<00:00, 2626620.66it/s]\n"
          ]
        },
        {
          "output_type": "stream",
          "name": "stdout",
          "text": [
            "Extracting data/FashionMNIST/raw/t10k-images-idx3-ubyte.gz to data/FashionMNIST/raw\n",
            "\n",
            "Downloading http://fashion-mnist.s3-website.eu-central-1.amazonaws.com/t10k-labels-idx1-ubyte.gz\n",
            "Downloading http://fashion-mnist.s3-website.eu-central-1.amazonaws.com/t10k-labels-idx1-ubyte.gz to data/FashionMNIST/raw/t10k-labels-idx1-ubyte.gz\n"
          ]
        },
        {
          "output_type": "stream",
          "name": "stderr",
          "text": [
            "100%|██████████| 5148/5148 [00:00<00:00, 7988263.78it/s]"
          ]
        },
        {
          "output_type": "stream",
          "name": "stdout",
          "text": [
            "Extracting data/FashionMNIST/raw/t10k-labels-idx1-ubyte.gz to data/FashionMNIST/raw\n",
            "\n"
          ]
        },
        {
          "output_type": "stream",
          "name": "stderr",
          "text": [
            "\n"
          ]
        }
      ]
    },
    {
      "cell_type": "markdown",
      "source": [
        "root=\"data\" especifica la ruta donde se almacenarán o buscarán los datos. En este caso, se utilizará un directorio llamado \"data\". Si este directorio no existe, se descargará el conjunto de datos y se almacenará en este directorio.\n",
        "\n",
        "train=False indica que se está cargando el conjunto de datos de prueba (test) en lugar del conjunto de entrenamiento. Cuando se establece en False, carga los datos de prueba. Si se establece en True, cargaría los datos de entrenamiento.\n",
        "\n",
        "download=True indica que, si los datos no están disponibles localmente en la ubicación especificada por root, deben descargarse. Si los datos ya están presentes en la ubicación especificada, no se realizará ninguna descarga.\n",
        "\n",
        "transform=ToTensor() especifica la transformación que se aplicará a cada muestra del conjunto de datos. En este caso, se utiliza ToTensor(), que convierte las imágenes en tensores de PyTorch. Las imágenes originales están en formato de imagen, y ToTensor() las convierte en tensores, lo cual es necesario para trabajar con PyTorch."
      ],
      "metadata": {
        "id": "EoCZgCnieHn_"
      }
    },
    {
      "cell_type": "markdown",
      "source": [
        "##Iterar y visualizar"
      ],
      "metadata": {
        "id": "xUVsXqXdeW1h"
      }
    },
    {
      "cell_type": "code",
      "source": [
        "labels_map = {\n",
        "    0: \"T-Shirt\",\n",
        "    1: \"Trouser\",\n",
        "    2: \"Pullover\",\n",
        "    3: \"Dress\",\n",
        "    4: \"Coat\",\n",
        "    5: \"Sandal\",\n",
        "    6: \"Shirt\",\n",
        "    7: \"Sneaker\",\n",
        "    8: \"Bag\",\n",
        "    9: \"Ankle Boot\",\n",
        "}\n",
        "figure = plt.figure(figsize=(8, 8))\n",
        "cols, rows = 3, 3\n",
        "for i in range(1, cols * rows + 1):\n",
        "    imagen_aleatoria = torch.randint(len(training_data), size=(1,)).item()\n",
        "    img, label = training_data[imagen_aleatoria]\n",
        "    figure.add_subplot(rows, cols, i)\n",
        "    plt.title(labels_map[label])\n",
        "    plt.axis(\"off\")\n",
        "    plt.imshow(img.squeeze(), cmap=\"gray\")\n",
        "plt.show()"
      ],
      "metadata": {
        "colab": {
          "base_uri": "https://localhost:8080/",
          "height": 675
        },
        "id": "GHNN0bqWeGjD",
        "outputId": "aafae502-5eed-45b9-ff77-e3c7feeb41db"
      },
      "execution_count": 34,
      "outputs": [
        {
          "output_type": "display_data",
          "data": {
            "text/plain": [
              "<Figure size 800x800 with 9 Axes>"
            ],
            "image/png": "[encoded data removed]"
          },
          "metadata": {}
        }
      ]
    },
    {
      "cell_type": "markdown",
      "source": [
        "##Data Loader"
      ],
      "metadata": {
        "id": "MAp5tK7xyxhv"
      }
    },
    {
      "cell_type": "markdown",
      "source": [
        "Un elemento DataSet está diseñado para la recuperación de elementos de datos individuales, mientras que un elemento DataLoader está diseñado para trabajar con lotes de datos."
      ],
      "metadata": {
        "id": "SOYjQrOnkwF0"
      }
    },
    {
      "cell_type": "markdown",
      "source": [
        "Para utilizar el DataLoader, necesitamos configurar los siguientes parámetros:\n",
        "\n",
        "data: los datos de entrenamiento que se utilizarán para entrenar el modelo y los datos de prueba para evaluar el modelo.\n",
        "\n",
        "batch size: el número de registros que se procesarán en cada lote.\n",
        "\n",
        "shuffle: reorganiza de manera aleatoria la muestra de datos por índices."
      ],
      "metadata": {
        "id": "v6tLsPWgj-9Z"
      }
    },
    {
      "cell_type": "code",
      "source": [
        "train_dataloader = DataLoader(training_data, batch_size=64, shuffle=True)\n",
        "test_dataloader = DataLoader(test_data, batch_size=64, shuffle=True)\n",
        "train_features, train_labels = next(iter(train_dataloader))"
      ],
      "metadata": {
        "id": "_XxjemSZdTe-"
      },
      "execution_count": 35,
      "outputs": []
    },
    {
      "cell_type": "code",
      "source": [
        "train_dataloader"
      ],
      "metadata": {
        "colab": {
          "base_uri": "https://localhost:8080/"
        },
        "id": "2IctC5VsyotN",
        "outputId": "f8108b42-f661-4cee-a899-2f564b8d40ff"
      },
      "execution_count": 36,
      "outputs": [
        {
          "output_type": "execute_result",
          "data": {
            "text/plain": [
              "<torch.utils.data.dataloader.DataLoader at 0x7a012e387be0>"
            ]
          },
          "metadata": {},
          "execution_count": 36
        }
      ]
    },
    {
      "cell_type": "code",
      "source": [
        "train_features[0].size()"
      ],
      "metadata": {
        "colab": {
          "base_uri": "https://localhost:8080/"
        },
        "id": "hMMp5s3grmND",
        "outputId": "5932a14e-060e-4873-95ae-1b813fb0d16b"
      },
      "execution_count": 37,
      "outputs": [
        {
          "output_type": "execute_result",
          "data": {
            "text/plain": [
              "torch.Size([1, 28, 28])"
            ]
          },
          "metadata": {},
          "execution_count": 37
        }
      ]
    },
    {
      "cell_type": "code",
      "source": [
        "train_labels.size()"
      ],
      "metadata": {
        "colab": {
          "base_uri": "https://localhost:8080/"
        },
        "id": "bSJcIz_ds1Lm",
        "outputId": "37aadbf8-bc07-4cc9-b918-771a98450271"
      },
      "execution_count": 38,
      "outputs": [
        {
          "output_type": "execute_result",
          "data": {
            "text/plain": [
              "torch.Size([64])"
            ]
          },
          "metadata": {},
          "execution_count": 38
        }
      ]
    },
    {
      "cell_type": "code",
      "source": [
        "train_labels"
      ],
      "metadata": {
        "colab": {
          "base_uri": "https://localhost:8080/"
        },
        "id": "SkXqj3Q_s6aK",
        "outputId": "e58dab4b-2849-4525-bb4d-b5bc226ede80"
      },
      "execution_count": 39,
      "outputs": [
        {
          "output_type": "execute_result",
          "data": {
            "text/plain": [
              "tensor([2, 8, 9, 6, 0, 2, 7, 8, 1, 5, 3, 8, 1, 3, 4, 1, 4, 0, 6, 2, 6, 7, 5, 4,\n",
              "        3, 7, 9, 7, 5, 2, 3, 3, 2, 2, 4, 5, 7, 7, 8, 7, 6, 4, 2, 0, 9, 8, 8, 1,\n",
              "        5, 9, 8, 7, 4, 0, 6, 1, 3, 2, 2, 7, 4, 7, 4, 3])"
            ]
          },
          "metadata": {},
          "execution_count": 39
        }
      ]
    },
    {
      "cell_type": "code",
      "source": [
        "train_features[0].squeeze().size()"
      ],
      "metadata": {
        "colab": {
          "base_uri": "https://localhost:8080/"
        },
        "id": "tuuhESTMrx-V",
        "outputId": "369eef79-c451-4114-bd8e-dc3100c413a5"
      },
      "execution_count": 40,
      "outputs": [
        {
          "output_type": "execute_result",
          "data": {
            "text/plain": [
              "torch.Size([28, 28])"
            ]
          },
          "metadata": {},
          "execution_count": 40
        }
      ]
    },
    {
      "cell_type": "code",
      "source": [
        "labels_map = {\n",
        "    0: \"T-Shirt\",\n",
        "    1: \"Trouser\",\n",
        "    2: \"Pullover\",\n",
        "    3: \"Dress\",\n",
        "    4: \"Coat\",\n",
        "    5: \"Sandal\",\n",
        "    6: \"Shirt\",\n",
        "    7: \"Sneaker\",\n",
        "    8: \"Bag\",\n",
        "    9: \"Ankle Boot\",\n",
        "}"
      ],
      "metadata": {
        "id": "SsVRRNFWtZ3t"
      },
      "execution_count": 41,
      "outputs": []
    },
    {
      "cell_type": "code",
      "source": [
        "img = train_features[0].squeeze()\n",
        "label = train_labels[0]\n",
        "plt.imshow(img, cmap=\"gray\")\n",
        "plt.show()\n",
        "print(f\"Label: {list((labels_map.values()))[label]}\")"
      ],
      "metadata": {
        "colab": {
          "base_uri": "https://localhost:8080/",
          "height": 447
        },
        "id": "hmifE1Ylmp_m",
        "outputId": "e064cea1-b069-4fca-b637-ff0f85d5fbbc"
      },
      "execution_count": 42,
      "outputs": [
        {
          "output_type": "display_data",
          "data": {
            "text/plain": [
              "<Figure size 640x480 with 1 Axes>"
            ],
            "image/png": "[encoded data removed]"
          },
          "metadata": {}
        },
        {
          "output_type": "stream",
          "name": "stdout",
          "text": [
            "Label: Pullover\n"
          ]
        }
      ]
    },
    {
      "cell_type": "markdown",
      "source": [
        "##Transformar"
      ],
      "metadata": {
        "id": "g3qMItWzyZG1"
      }
    },
    {
      "cell_type": "markdown",
      "source": [
        "Necesitamos realizar una codificación one-hot de las clases, para lo cual utilizamos una función lambda. Inicializamos un vector que contiene todas las clases con ceros y, posteriormente, obtenemos el valor de la etiqueta 'y'. Luego, empleamos este valor para modificar el vector, estableciendo el correspondiente valor en 1. Este proceso garantiza que representemos cada clase mediante un vector binario único, esencial para tareas de clasificación."
      ],
      "metadata": {
        "id": "tZFTkJDBwwqf"
      }
    },
    {
      "cell_type": "code",
      "source": [
        "ds = datasets.FashionMNIST(\n",
        "    root=\"data\",\n",
        "    train=True,\n",
        "    download=True,\n",
        "    transform=ToTensor(),\n",
        "    target_transform=Lambda(lambda y: torch.zeros(10, dtype=torch.float).scatter_(0, torch.tensor(y), value=1))\n",
        ")"
      ],
      "metadata": {
        "id": "oWooZBeUpc1m"
      },
      "execution_count": 43,
      "outputs": []
    },
    {
      "cell_type": "code",
      "source": [
        "ds"
      ],
      "metadata": {
        "colab": {
          "base_uri": "https://localhost:8080/"
        },
        "id": "toncMlvPwaGi",
        "outputId": "6ea03f96-9f86-473d-955c-e702a2d29ca5"
      },
      "execution_count": 44,
      "outputs": [
        {
          "output_type": "execute_result",
          "data": {
            "text/plain": [
              "Dataset FashionMNIST\n",
              "    Number of datapoints: 60000\n",
              "    Root location: data\n",
              "    Split: Train\n",
              "    StandardTransform\n",
              "Transform: ToTensor()\n",
              "Target transform: Lambda()"
            ]
          },
          "metadata": {},
          "execution_count": 44
        }
      ]
    },
    {
      "cell_type": "markdown",
      "source": [
        "#Red Neuronal"
      ],
      "metadata": {
        "id": "ejROjf8dyUDB"
      }
    },
    {
      "cell_type": "markdown",
      "source": [
        "Las redes neuronales están formadas por capas de neuronas interconectadas, y estas capas se dividen generalmente en tres tipos:\n",
        "\n",
        "Capa de Entrada (Input Layer): Esta capa recibe las señales o características de entrada y transmite esa información a las capas siguientes.\n",
        "\n",
        "Capas Ocultas (Hidden Layers): Estas capas realizan operaciones de procesamiento intermedias. Cada neurona en una capa oculta toma entradas de las neuronas de la capa anterior, realiza operaciones y transmite resultados a la capa siguiente.\n",
        "\n",
        "Capa de Salida (Output Layer): Esta capa produce la salida final de la red neuronal. La cantidad de neuronas en esta capa suele coincidir con la cantidad de clases en un problema de clasificación."
      ],
      "metadata": {
        "id": "K76fbAWKzRBr"
      }
    },
    {
      "cell_type": "markdown",
      "source": [
        "En una red neuronal, cada neurona realiza cálculos en su entrada y decide si \"activarse\" o no, es decir, si debe transmitir una señal a las neuronas en la capa siguiente. La función que toma esta decisión se llama función de activación."
      ],
      "metadata": {
        "id": "jgLcPR-N0IpY"
      }
    },
    {
      "cell_type": "markdown",
      "source": [
        "La red realiza una transformación lineal de las características de entrada utilizando pesos y sesgos. En el contexto mencionado, la transformación lineal toma un vector de 784 características y lo convierte en un nuevo vector de 512 características. Este proceso implica que cada característica de entrada se multiplique por un peso correspondiente, se sume un sesgo y se obtenga el resultado.\n",
        "\n",
        "Después de la transformación lineal, se aplica la función de activación ReLU a cada elemento del vector resultante. La función ReLU está definida como\n",
        "\n",
        "f(x)=max(0,x). Esto significa que si el valor es positivo, se mantiene igual; si es negativo, se establece en cero. La aplicación de ReLU tiene el efecto de \"activar\" ciertas neuronas. Si el resultado de la transformación lineal es positivo, la neurona correspondiente se activa y transmite su salida; si es negativo, la neurona permanece inactiva y su salida es cero. Este proceso de combinación de transformación lineal y función de activación ReLU permite a la red aprender patrones y representaciones no lineales en los datos."
      ],
      "metadata": {
        "id": "WUmd-6ZU49qv"
      }
    },
    {
      "cell_type": "code",
      "source": [
        "class NeuralNetwork(nn.Module):\n",
        "    def __init__(self):\n",
        "        super(NeuralNetwork, self).__init__()\n",
        "        self.flatten = nn.Flatten()\n",
        "        self.linear_relu_stack = nn.Sequential(\n",
        "            nn.Linear(28*28, 512),\n",
        "            nn.ReLU(),\n",
        "            nn.Linear(512, 512),\n",
        "            nn.ReLU(),\n",
        "            nn.Linear(512, 10),\n",
        "            nn.ReLU()\n",
        "        )\n",
        "\n",
        "    def forward(self, x):\n",
        "        x = self.flatten(x)\n",
        "        logits = self.linear_relu_stack(x)\n",
        "        return logits"
      ],
      "metadata": {
        "id": "_mJME8t40UEV"
      },
      "execution_count": 45,
      "outputs": []
    },
    {
      "cell_type": "code",
      "source": [
        "device = 'cuda' if torch.cuda.is_available() else 'cpu'\n",
        "print('Using {} device'.format(device))"
      ],
      "metadata": {
        "colab": {
          "base_uri": "https://localhost:8080/"
        },
        "id": "xXuoBb90Mgve",
        "outputId": "3569120a-bd8a-46a0-a48c-718951774a42"
      },
      "execution_count": 46,
      "outputs": [
        {
          "output_type": "stream",
          "name": "stdout",
          "text": [
            "Using cpu device\n"
          ]
        }
      ]
    },
    {
      "cell_type": "code",
      "source": [
        "model = NeuralNetwork().to(device)\n",
        "print(model)"
      ],
      "metadata": {
        "colab": {
          "base_uri": "https://localhost:8080/"
        },
        "id": "KAikHVV0yCly",
        "outputId": "feee774b-3879-4534-e775-0b4f66204d2d"
      },
      "execution_count": 47,
      "outputs": [
        {
          "output_type": "stream",
          "name": "stdout",
          "text": [
            "NeuralNetwork(\n",
            "  (flatten): Flatten(start_dim=1, end_dim=-1)\n",
            "  (linear_relu_stack): Sequential(\n",
            "    (0): Linear(in_features=784, out_features=512, bias=True)\n",
            "    (1): ReLU()\n",
            "    (2): Linear(in_features=512, out_features=512, bias=True)\n",
            "    (3): ReLU()\n",
            "    (4): Linear(in_features=512, out_features=10, bias=True)\n",
            "    (5): ReLU()\n",
            "  )\n",
            ")\n"
          ]
        }
      ]
    },
    {
      "cell_type": "markdown",
      "source": [
        "Si tienes un tensor de forma (1, 28, 28), se puede considerar como una imagen con 28 matrices, cada una con 28 entradas."
      ],
      "metadata": {
        "id": "jIyLNwFZOmiD"
      }
    },
    {
      "cell_type": "code",
      "source": [
        "X = torch.rand(1, 28, 28, device=device)"
      ],
      "metadata": {
        "id": "oK2E6pFBMGRV"
      },
      "execution_count": 48,
      "outputs": []
    },
    {
      "cell_type": "code",
      "source": [
        "logits = model(X)\n",
        "pred_probab = nn.Softmax(dim=1)(logits)"
      ],
      "metadata": {
        "id": "qHn35gsSNlb6"
      },
      "execution_count": 49,
      "outputs": []
    },
    {
      "cell_type": "code",
      "source": [
        "logits"
      ],
      "metadata": {
        "colab": {
          "base_uri": "https://localhost:8080/"
        },
        "id": "p14YJNknNmEM",
        "outputId": "022afdf2-4080-4a9e-9a68-c7843d81a6c5"
      },
      "execution_count": 50,
      "outputs": [
        {
          "output_type": "execute_result",
          "data": {
            "text/plain": [
              "tensor([[0.0000, 0.0000, 0.0000, 0.0034, 0.0000, 0.0206, 0.0000, 0.0000, 0.0781,\n",
              "         0.0079]], grad_fn=<ReluBackward0>)"
            ]
          },
          "metadata": {},
          "execution_count": 50
        }
      ]
    },
    {
      "cell_type": "code",
      "source": [
        "pred_probab = nn.Softmax(dim=1)(logits)"
      ],
      "metadata": {
        "id": "sQF8DlFyP2Sf"
      },
      "execution_count": 51,
      "outputs": []
    },
    {
      "cell_type": "markdown",
      "source": [
        "##Aplicaciòn del Modelo\n"
      ],
      "metadata": {
        "id": "WZPzyb7NXHgB"
      }
    },
    {
      "cell_type": "code",
      "source": [
        "learning_rate = 1e-3\n",
        "batch_size = 64\n",
        "epochs = 5"
      ],
      "metadata": {
        "id": "yHILDY9mSZyH"
      },
      "execution_count": 52,
      "outputs": []
    },
    {
      "cell_type": "markdown",
      "source": [
        "###Funciòn de perdida"
      ],
      "metadata": {
        "id": "e_oumVIPXgz-"
      }
    },
    {
      "cell_type": "markdown",
      "source": [
        "La pérdida de entropía cruzada evalúa cuánto divergen las predicciones del modelo de las etiquetas reales"
      ],
      "metadata": {
        "id": "LrheXkYVYGfI"
      }
    },
    {
      "cell_type": "code",
      "source": [
        "loss_fn = nn.CrossEntropyLoss()"
      ],
      "metadata": {
        "id": "vv6pg4cLXLsE"
      },
      "execution_count": 53,
      "outputs": []
    },
    {
      "cell_type": "markdown",
      "source": [
        "###Optimizador"
      ],
      "metadata": {
        "id": "3ZGnXMtQaN7v"
      }
    },
    {
      "cell_type": "markdown",
      "source": [
        "Un optimizador es una herramienta que implementa un algoritmo de optimización, específicamente diseñado para ajustar los parámetros (pesos y sesgos) de un modelo de aprendizaje automático durante el entrenamiento. La optimización tiene como objetivo minimizar (o maximizar) una función de pérdida, que mide la diferencia entre las predicciones del modelo y las etiquetas reales.\n",
        "Implementa el algoritmo clásico de descenso de gradiente estocástico, que ajusta los parámetros en dirección opuesta al gradiente de la función de pérdida.\n",
        "El Descenso de Gradiente es un algoritmo de optimización utilizado para minimizar funciones de pérdida. La versión \"estocástica\" implica que, en lugar de calcular el gradiente utilizando el conjunto de datos completo, se calcula el gradiente utilizando solo una pequeña muestra (o \"minibatch\") de datos en cada paso de entrenamiento. Esto ayuda a acelerar el proceso de optimización y puede conducir a una convergencia más rápida."
      ],
      "metadata": {
        "id": "ODrknF9NbwDJ"
      }
    },
    {
      "cell_type": "code",
      "source": [
        "optimizer = torch.optim.SGD(model.parameters(), lr=learning_rate)"
      ],
      "metadata": {
        "id": "nt2rfrXSXemX"
      },
      "execution_count": 54,
      "outputs": []
    },
    {
      "cell_type": "markdown",
      "source": [
        "##Implementacion"
      ],
      "metadata": {
        "id": "__6dTxPxjMZp"
      }
    },
    {
      "cell_type": "code",
      "source": [
        "def train_loop(dataloader, model, loss_fn, optimizer):\n",
        "    size = len(dataloader.dataset)\n",
        "    for batch, (X, y) in enumerate(dataloader):\n",
        "        # Compute prediction and loss\n",
        "        pred = model(X)\n",
        "        loss = loss_fn(pred, y)\n",
        "\n",
        "        # Backpropagation\n",
        "        optimizer.zero_grad()\n",
        "        loss.backward()\n",
        "        optimizer.step()\n",
        "\n",
        "        if batch % 100 == 0:\n",
        "            loss, current = loss.item(), batch * len(X)\n",
        "            print(f\"loss: {loss:>7f}  [{current:>5d}/{size:>5d}]\")"
      ],
      "metadata": {
        "id": "33mBADRDb45S"
      },
      "execution_count": 55,
      "outputs": []
    },
    {
      "cell_type": "code",
      "source": [
        "def test_loop(dataloader, model, loss_fn):\n",
        "    size = len(dataloader.dataset)\n",
        "    test_loss, correct = 0, 0\n",
        "\n",
        "    with torch.no_grad():\n",
        "        for X, y in dataloader:\n",
        "            pred = model(X)\n",
        "            test_loss += loss_fn(pred, y).item()\n",
        "            correct += (pred.argmax(1) == y).type(torch.float).sum().item()\n",
        "\n",
        "    test_loss /= size\n",
        "    correct /= size\n",
        "    print(f\"Test Error: \\n Accuracy: {(100*correct):>0.1f}%, Avg loss: {test_loss:>8f} \\n\")"
      ],
      "metadata": {
        "id": "YYwq-CJEjhGF"
      },
      "execution_count": 56,
      "outputs": []
    },
    {
      "cell_type": "code",
      "source": [
        "loss_fn = nn.CrossEntropyLoss()\n",
        "optimizer = torch.optim.SGD(model.parameters(), lr=learning_rate)\n",
        "\n",
        "epochs = 10\n",
        "for t in range(epochs):\n",
        "    print(f\"Epoch {t+1}\\n-------------------------------\")\n",
        "    train_loop(train_dataloader, model, loss_fn, optimizer)\n",
        "    test_loop(test_dataloader, model, loss_fn)\n",
        "print(\"Done!\")"
      ],
      "metadata": {
        "colab": {
          "base_uri": "https://localhost:8080/"
        },
        "id": "Q_Nn1YSUjtZl",
        "outputId": "11f749ca-69ff-4803-f3d0-c7219e6849c4"
      },
      "execution_count": 57,
      "outputs": [
        {
          "output_type": "stream",
          "name": "stdout",
          "text": [
            "Epoch 1\n",
            "-------------------------------\n",
            "loss: 2.298539  [    0/60000]\n",
            "loss: 2.293216  [ 6400/60000]\n",
            "loss: 2.293568  [12800/60000]\n",
            "loss: 2.285562  [19200/60000]\n",
            "loss: 2.267318  [25600/60000]\n",
            "loss: 2.275199  [32000/60000]\n",
            "loss: 2.267306  [38400/60000]\n",
            "loss: 2.266685  [44800/60000]\n",
            "loss: 2.250182  [51200/60000]\n",
            "loss: 2.261928  [57600/60000]\n",
            "Test Error: \n",
            " Accuracy: 30.6%, Avg loss: 0.035313 \n",
            "\n",
            "Epoch 2\n",
            "-------------------------------\n",
            "loss: 2.255335  [    0/60000]\n",
            "loss: 2.257537  [ 6400/60000]\n",
            "loss: 2.258028  [12800/60000]\n",
            "loss: 2.214669  [19200/60000]\n",
            "loss: 2.222891  [25600/60000]\n",
            "loss: 2.219308  [32000/60000]\n",
            "loss: 2.188735  [38400/60000]\n",
            "loss: 2.167724  [44800/60000]\n",
            "loss: 2.234295  [51200/60000]\n",
            "loss: 2.123032  [57600/60000]\n",
            "Test Error: \n",
            " Accuracy: 37.1%, Avg loss: 0.034010 \n",
            "\n",
            "Epoch 3\n",
            "-------------------------------\n",
            "loss: 2.206189  [    0/60000]\n",
            "loss: 2.186994  [ 6400/60000]\n",
            "loss: 2.217716  [12800/60000]\n",
            "loss: 2.183631  [19200/60000]\n",
            "loss: 2.157468  [25600/60000]\n",
            "loss: 2.106099  [32000/60000]\n",
            "loss: 2.068651  [38400/60000]\n",
            "loss: 1.995671  [44800/60000]\n",
            "loss: 2.161669  [51200/60000]\n",
            "loss: 2.052131  [57600/60000]\n",
            "Test Error: \n",
            " Accuracy: 38.4%, Avg loss: 0.032359 \n",
            "\n",
            "Epoch 4\n",
            "-------------------------------\n",
            "loss: 2.126048  [    0/60000]\n",
            "loss: 1.991877  [ 6400/60000]\n",
            "loss: 2.016081  [12800/60000]\n",
            "loss: 1.980738  [19200/60000]\n",
            "loss: 1.976680  [25600/60000]\n",
            "loss: 2.087482  [32000/60000]\n",
            "loss: 1.993476  [38400/60000]\n",
            "loss: 1.995500  [44800/60000]\n",
            "loss: 1.983228  [51200/60000]\n",
            "loss: 2.000134  [57600/60000]\n",
            "Test Error: \n",
            " Accuracy: 39.7%, Avg loss: 0.030809 \n",
            "\n",
            "Epoch 5\n",
            "-------------------------------\n",
            "loss: 1.767107  [    0/60000]\n",
            "loss: 2.108572  [ 6400/60000]\n",
            "loss: 1.728778  [12800/60000]\n",
            "loss: 1.911516  [19200/60000]\n",
            "loss: 1.940257  [25600/60000]\n",
            "loss: 1.998631  [32000/60000]\n",
            "loss: 1.814359  [38400/60000]\n",
            "loss: 1.808491  [44800/60000]\n",
            "loss: 1.810291  [51200/60000]\n",
            "loss: 1.925453  [57600/60000]\n",
            "Test Error: \n",
            " Accuracy: 41.0%, Avg loss: 0.029566 \n",
            "\n",
            "Epoch 6\n",
            "-------------------------------\n",
            "loss: 1.797953  [    0/60000]\n",
            "loss: 1.778620  [ 6400/60000]\n",
            "loss: 1.993842  [12800/60000]\n",
            "loss: 1.851025  [19200/60000]\n",
            "loss: 1.967136  [25600/60000]\n",
            "loss: 1.793460  [32000/60000]\n",
            "loss: 1.812016  [38400/60000]\n",
            "loss: 1.897777  [44800/60000]\n",
            "loss: 1.862493  [51200/60000]\n",
            "loss: 1.857312  [57600/60000]\n",
            "Test Error: \n",
            " Accuracy: 42.1%, Avg loss: 0.028595 \n",
            "\n",
            "Epoch 7\n",
            "-------------------------------\n",
            "loss: 1.772066  [    0/60000]\n",
            "loss: 1.723957  [ 6400/60000]\n",
            "loss: 1.818956  [12800/60000]\n",
            "loss: 1.780973  [19200/60000]\n",
            "loss: 1.695352  [25600/60000]\n",
            "loss: 1.662823  [32000/60000]\n",
            "loss: 1.839327  [38400/60000]\n",
            "loss: 2.042879  [44800/60000]\n",
            "loss: 1.812653  [51200/60000]\n",
            "loss: 1.872490  [57600/60000]\n",
            "Test Error: \n",
            " Accuracy: 42.8%, Avg loss: 0.027845 \n",
            "\n",
            "Epoch 8\n",
            "-------------------------------\n",
            "loss: 1.835347  [    0/60000]\n",
            "loss: 1.808296  [ 6400/60000]\n",
            "loss: 1.746785  [12800/60000]\n",
            "loss: 1.728625  [19200/60000]\n",
            "loss: 1.805676  [25600/60000]\n",
            "loss: 1.790257  [32000/60000]\n",
            "loss: 1.663150  [38400/60000]\n",
            "loss: 1.531947  [44800/60000]\n",
            "loss: 1.794216  [51200/60000]\n",
            "loss: 1.667046  [57600/60000]\n",
            "Test Error: \n",
            " Accuracy: 43.4%, Avg loss: 0.027312 \n",
            "\n",
            "Epoch 9\n",
            "-------------------------------\n",
            "loss: 1.784184  [    0/60000]\n",
            "loss: 1.804841  [ 6400/60000]\n",
            "loss: 1.684834  [12800/60000]\n",
            "loss: 1.500761  [19200/60000]\n",
            "loss: 1.667305  [25600/60000]\n",
            "loss: 1.756527  [32000/60000]\n",
            "loss: 1.690483  [38400/60000]\n",
            "loss: 1.688680  [44800/60000]\n",
            "loss: 1.715232  [51200/60000]\n",
            "loss: 1.772354  [57600/60000]\n",
            "Test Error: \n",
            " Accuracy: 43.8%, Avg loss: 0.026911 \n",
            "\n",
            "Epoch 10\n",
            "-------------------------------\n",
            "loss: 1.785717  [    0/60000]\n",
            "loss: 1.554401  [ 6400/60000]\n",
            "loss: 1.412152  [12800/60000]\n",
            "loss: 1.829021  [19200/60000]\n",
            "loss: 1.746902  [25600/60000]\n",
            "loss: 1.801494  [32000/60000]\n",
            "loss: 1.732363  [38400/60000]\n",
            "loss: 1.746957  [44800/60000]\n",
            "loss: 1.606420  [51200/60000]\n",
            "loss: 1.825780  [57600/60000]\n",
            "Test Error: \n",
            " Accuracy: 44.4%, Avg loss: 0.026306 \n",
            "\n",
            "Done!\n"
          ]
        }
      ]
    },
    {
      "cell_type": "code",
      "source": [
        "torch.save(model.state_dict(), \"data/model.pth\")\n",
        "print(\"Saved PyTorch Model State to model.pth\")"
      ],
      "metadata": {
        "colab": {
          "base_uri": "https://localhost:8080/"
        },
        "id": "CXVPHII7j1jl",
        "outputId": "53cb007e-caf0-455f-c81e-8a47f3a3a588"
      },
      "execution_count": 58,
      "outputs": [
        {
          "output_type": "stream",
          "name": "stdout",
          "text": [
            "Saved PyTorch Model State to model.pth\n"
          ]
        }
      ]
    },
    {
      "cell_type": "code",
      "source": [
        "x, y = test_data[0][0], test_data[0][1]"
      ],
      "metadata": {
        "id": "OxQJbD8dwKDw"
      },
      "execution_count": 59,
      "outputs": []
    },
    {
      "cell_type": "code",
      "source": [
        "predecir=model(x)\n",
        "predecir"
      ],
      "metadata": {
        "colab": {
          "base_uri": "https://localhost:8080/"
        },
        "id": "a852JJhGxxZH",
        "outputId": "c9093aa8-e018-480a-f209-8e136258d762"
      },
      "execution_count": 61,
      "outputs": [
        {
          "output_type": "execute_result",
          "data": {
            "text/plain": [
              "tensor([[0.0000, 0.0000, 0.0000, 0.0000, 0.0000, 2.2985, 0.0000, 0.2620, 0.8601,\n",
              "         2.8408]], grad_fn=<ReluBackward0>)"
            ]
          },
          "metadata": {},
          "execution_count": 61
        }
      ]
    },
    {
      "cell_type": "code",
      "source": [
        "clase_predecir=predecir[0].argmax(0)"
      ],
      "metadata": {
        "id": "TMeOIvQFx6An"
      },
      "execution_count": 65,
      "outputs": []
    },
    {
      "cell_type": "code",
      "source": [
        "clase_predecir=labels_map[predecir[0].argmax(0).item()]"
      ],
      "metadata": {
        "id": "Uh0qDZKfyetu"
      },
      "execution_count": 68,
      "outputs": []
    },
    {
      "cell_type": "code",
      "source": [
        "clase_predecir"
      ],
      "metadata": {
        "colab": {
          "base_uri": "https://localhost:8080/",
          "height": 35
        },
        "id": "Wf4U3WbRysMF",
        "outputId": "2b41665d-aa5c-4ad4-a12a-ce63f693ea35"
      },
      "execution_count": 69,
      "outputs": [
        {
          "output_type": "execute_result",
          "data": {
            "text/plain": [
              "'Ankle Boot'"
            ],
            "application/vnd.google.colaboratory.intrinsic+json": {
              "type": "string"
            }
          },
          "metadata": {},
          "execution_count": 69
        }
      ]
    },
    {
      "cell_type": "code",
      "source": [
        "clase_real=labels_map[y]"
      ],
      "metadata": {
        "id": "ACqnK58py_n-"
      },
      "execution_count": 71,
      "outputs": []
    },
    {
      "cell_type": "code",
      "source": [
        "clase_real"
      ],
      "metadata": {
        "colab": {
          "base_uri": "https://localhost:8080/",
          "height": 35
        },
        "id": "ftR3eIwlzA8g",
        "outputId": "1e7f2348-056c-48fc-c4fd-8e5127a9d953"
      },
      "execution_count": 72,
      "outputs": [
        {
          "output_type": "execute_result",
          "data": {
            "text/plain": [
              "'Ankle Boot'"
            ],
            "application/vnd.google.colaboratory.intrinsic+json": {
              "type": "string"
            }
          },
          "metadata": {},
          "execution_count": 72
        }
      ]
    },
    {
      "cell_type": "code",
      "source": [],
      "metadata": {
        "id": "zNfflmRTzJ4t"
      },
      "execution_count": null,
      "outputs": []
    }
  ]
}